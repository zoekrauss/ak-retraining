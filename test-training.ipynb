{
 "cells": [
  {
   "cell_type": "code",
   "execution_count": 1,
   "id": "01267452-d5b8-4266-ba0c-543db2601c69",
   "metadata": {},
   "outputs": [],
   "source": [
    "import seisbench.data as sbd\n",
    "import seisbench.generate as sbg\n",
    "import seisbench.models as sbm\n",
    "from seisbench.util import worker_seeding\n",
    "\n",
    "import numpy as np\n",
    "import matplotlib.pyplot as plt\n",
    "import torch\n",
    "from torch.utils.data import DataLoader\n",
    "from obspy.clients.fdsn import Client\n",
    "from obspy import UTCDateTime"
   ]
  },
  {
   "cell_type": "code",
   "execution_count": 2,
   "id": "e589b60f-334a-4f1d-ba5e-bc095ec42c38",
   "metadata": {},
   "outputs": [],
   "source": [
    "model = sbm.EQTransformer()\n",
    "\n",
    "model.cuda();"
   ]
  },
  {
   "cell_type": "code",
   "execution_count": null,
   "id": "2aaa7402-6980-4e07-ad18-887c6f48c492",
   "metadata": {},
   "outputs": [
    {
     "name": "stderr",
     "output_type": "stream",
     "text": [
      "2022-02-24 07:39:38,172 | seisbench | WARNING | Check available storage and memory before downloading and general use of ETHZ dataset. Dataset size: waveforms.hdf5 ~22Gb, metadata.csv ~13Mb\n",
      "2022-02-24 07:39:39,085 | seisbench | WARNING | Dataset ETHZ not in cache.\n",
      "2022-02-24 07:39:39,086 | seisbench | WARNING | Trying to download preprocessed version from SeisBench repository.\n",
      "Downloading metadata: 100%|████████████████| 12.3M/12.3M [00:01<00:00, 7.36MB/s]\n",
      "Downloading waveforms:  16%|██▍            | 3.47G/21.7G [03:35<18:48, 17.3MB/s]"
     ]
    }
   ],
   "source": [
    "data = sbd.ETHZ(sampling_rate=100,force=True)\n",
    "#train, dev, test = data.train_dev_test()"
   ]
  },
  {
   "cell_type": "code",
   "execution_count": null,
   "id": "aa5e6884-9c7a-485a-8cb8-035af32e4436",
   "metadata": {},
   "outputs": [],
   "source": []
  }
 ],
 "metadata": {
  "kernelspec": {
   "display_name": "alaska-ml",
   "language": "python",
   "name": "alaska-ml"
  },
  "language_info": {
   "codemirror_mode": {
    "name": "ipython",
    "version": 3
   },
   "file_extension": ".py",
   "mimetype": "text/x-python",
   "name": "python",
   "nbconvert_exporter": "python",
   "pygments_lexer": "ipython3",
   "version": "3.9.10"
  }
 },
 "nbformat": 4,
 "nbformat_minor": 5
}
