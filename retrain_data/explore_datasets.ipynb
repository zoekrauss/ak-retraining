{
 "cells": [
  {
   "cell_type": "code",
   "execution_count": 2,
   "id": "54f22784-f4d8-4c10-98c4-9a93b4185196",
   "metadata": {},
   "outputs": [
    {
     "name": "stdout",
     "output_type": "stream",
     "text": [
      "Preparing transaction: ...working... done\n",
      "Verifying transaction: ...working... done\n",
      "Executing transaction: ...working... Enabling notebook extension jupyter-js-widgets/extension...\n",
      "      - Validating: \u001b[32mOK\u001b[0m\n",
      "\n",
      "done\n",
      "Installing pip dependencies: ...working... done\n"
     ]
    }
   ],
   "source": [
    "!mamba env create --quiet -f '/home/jovyan/ak-retraining/environment.yml'"
   ]
  },
  {
   "cell_type": "code",
   "execution_count": 1,
   "id": "13690516-0981-4299-9795-240bb15e45c9",
   "metadata": {},
   "outputs": [],
   "source": [
    "import seisbench\n",
    "import seisbench.data as sbd\n",
    "import seisbench.generate as sbg\n",
    "import seisbench.models as sbm\n",
    "from seisbench.util import worker_seeding\n",
    "\n",
    "import numpy as np\n",
    "import matplotlib.pyplot as plt\n",
    "import torch\n",
    "from torch.utils.data import DataLoader\n",
    "from obspy.clients.fdsn import Client\n",
    "from obspy import UTCDateTime"
   ]
  },
  {
   "cell_type": "code",
   "execution_count": 2,
   "id": "04a1c8d6-8be2-4cd9-9f0f-d19956a812db",
   "metadata": {},
   "outputs": [
    {
     "name": "stdout",
     "output_type": "stream",
     "text": [
      "Cache root: /home/jovyan/.seisbench\n",
      "Contents: ['datasets', '.seisbench', 'models', 'config.json']\n",
      "datasets: ['iquique', 'dummydataset', 'stead']\n"
     ]
    }
   ],
   "source": [
    "# How to see what's in the cache:\n",
    "import os\n",
    "print(\"Cache root:\", seisbench.cache_root)\n",
    "print(\"Contents:\", os.listdir(seisbench.cache_root))\n",
    "print(\"datasets:\", os.listdir(seisbench.cache_root / \"datasets\"))"
   ]
  },
  {
   "cell_type": "code",
   "execution_count": 3,
   "id": "27cb2edd-a745-46f2-a6f1-23d8b2d1a214",
   "metadata": {},
   "outputs": [
    {
     "name": "stderr",
     "output_type": "stream",
     "text": [
      "2022-03-09 17:25:26,394 | seisbench | WARNING | Check available storage and memory before downloading and general use of Iquique dataset. Dataset size: waveforms.hdf5 ~5Gb, metadata.csv ~2.6Mb\n"
     ]
    }
   ],
   "source": [
    "data = sbd.Iquique(sampling_rate=100)"
   ]
  },
  {
   "cell_type": "code",
   "execution_count": 3,
   "id": "f26111cd-fb79-4081-9a14-d6ebc8cc03f0",
   "metadata": {},
   "outputs": [],
   "source": [
    "data = sbd.DummyDataset() "
   ]
  },
  {
   "cell_type": "markdown",
   "id": "c639f5e6-7655-46dc-80a8-045c2b87f881",
   "metadata": {},
   "source": [
    "#### We see that each entry contains the information for one P/S pick pair on one instrument (3 components), including the event origin information.\n",
    "\n",
    "#### If there is not an S pick, those columns are simply left as NaNs. "
   ]
  },
  {
   "cell_type": "code",
   "execution_count": 4,
   "id": "8e97bf6c-253a-4814-aa85-8e5dce78cadd",
   "metadata": {},
   "outputs": [
    {
     "data": {
      "text/html": [
       "<div>\n",
       "<style scoped>\n",
       "    .dataframe tbody tr th:only-of-type {\n",
       "        vertical-align: middle;\n",
       "    }\n",
       "\n",
       "    .dataframe tbody tr th {\n",
       "        vertical-align: top;\n",
       "    }\n",
       "\n",
       "    .dataframe thead th {\n",
       "        text-align: right;\n",
       "    }\n",
       "</style>\n",
       "<table border=\"1\" class=\"dataframe\">\n",
       "  <thead>\n",
       "    <tr style=\"text-align: right;\">\n",
       "      <th></th>\n",
       "      <th>trace_start_time</th>\n",
       "      <th>source_latitude_deg</th>\n",
       "      <th>source_longitude_deg</th>\n",
       "      <th>source_depth_km</th>\n",
       "      <th>source_event_category</th>\n",
       "      <th>source_magnitude</th>\n",
       "      <th>source_magnitude_uncertainty</th>\n",
       "      <th>source_magnitude2</th>\n",
       "      <th>source_magnitude_uncertainty2</th>\n",
       "      <th>trace_name</th>\n",
       "      <th>...</th>\n",
       "      <th>station_latitude_deg</th>\n",
       "      <th>station_longitude_deg</th>\n",
       "      <th>station_elevation_m</th>\n",
       "      <th>source_magnitude_type</th>\n",
       "      <th>source_magnitude_type2</th>\n",
       "      <th>split</th>\n",
       "      <th>trace_name_original</th>\n",
       "      <th>trace_chunk</th>\n",
       "      <th>trace_sampling_rate_hz</th>\n",
       "      <th>trace_component_order</th>\n",
       "    </tr>\n",
       "  </thead>\n",
       "  <tbody>\n",
       "    <tr>\n",
       "      <th>0</th>\n",
       "      <td>2007/01/01 01:42:45.08</td>\n",
       "      <td>-20.43802</td>\n",
       "      <td>-69.27681</td>\n",
       "      <td>83.18</td>\n",
       "      <td>ID</td>\n",
       "      <td>1.353</td>\n",
       "      <td>0.014</td>\n",
       "      <td>1.426</td>\n",
       "      <td>0.011</td>\n",
       "      <td>bucket0$0,:3,:1200</td>\n",
       "      <td>...</td>\n",
       "      <td>-21.04323</td>\n",
       "      <td>-69.4874</td>\n",
       "      <td>900.0</td>\n",
       "      <td>MA</td>\n",
       "      <td>ML</td>\n",
       "      <td>train</td>\n",
       "      <td>2007_01_01 01_42_45_08</td>\n",
       "      <td></td>\n",
       "      <td>20</td>\n",
       "      <td>ZNE</td>\n",
       "    </tr>\n",
       "    <tr>\n",
       "      <th>1</th>\n",
       "      <td>2007/01/01 02:41:13.75</td>\n",
       "      <td>-21.64059</td>\n",
       "      <td>-68.41443</td>\n",
       "      <td>118.38</td>\n",
       "      <td>ID</td>\n",
       "      <td>1.981</td>\n",
       "      <td>0.020</td>\n",
       "      <td>2.027</td>\n",
       "      <td>0.023</td>\n",
       "      <td>bucket0$1,:3,:1200</td>\n",
       "      <td>...</td>\n",
       "      <td>-21.04323</td>\n",
       "      <td>-69.4874</td>\n",
       "      <td>900.0</td>\n",
       "      <td>MA</td>\n",
       "      <td>ML</td>\n",
       "      <td>train</td>\n",
       "      <td>2007_01_01 02_41_13_75</td>\n",
       "      <td></td>\n",
       "      <td>20</td>\n",
       "      <td>ZNE</td>\n",
       "    </tr>\n",
       "    <tr>\n",
       "      <th>2</th>\n",
       "      <td>2007/01/01 03:50:29.27</td>\n",
       "      <td>-21.84637</td>\n",
       "      <td>-68.53904</td>\n",
       "      <td>111.82</td>\n",
       "      <td>ID</td>\n",
       "      <td>2.719</td>\n",
       "      <td>0.024</td>\n",
       "      <td>2.811</td>\n",
       "      <td>0.026</td>\n",
       "      <td>bucket0$2,:3,:1200</td>\n",
       "      <td>...</td>\n",
       "      <td>-21.04323</td>\n",
       "      <td>-69.4874</td>\n",
       "      <td>900.0</td>\n",
       "      <td>MA</td>\n",
       "      <td>ML</td>\n",
       "      <td>train</td>\n",
       "      <td>2007_01_01 03_50_29_27</td>\n",
       "      <td></td>\n",
       "      <td>20</td>\n",
       "      <td>ZNE</td>\n",
       "    </tr>\n",
       "    <tr>\n",
       "      <th>3</th>\n",
       "      <td>2007/01/01 05:40:02.55</td>\n",
       "      <td>-21.23950</td>\n",
       "      <td>-70.05063</td>\n",
       "      <td>34.95</td>\n",
       "      <td>UP</td>\n",
       "      <td>2.169</td>\n",
       "      <td>0.020</td>\n",
       "      <td>2.269</td>\n",
       "      <td>0.020</td>\n",
       "      <td>bucket0$3,:3,:1200</td>\n",
       "      <td>...</td>\n",
       "      <td>-21.04323</td>\n",
       "      <td>-69.4874</td>\n",
       "      <td>900.0</td>\n",
       "      <td>MA</td>\n",
       "      <td>ML</td>\n",
       "      <td>train</td>\n",
       "      <td>2007_01_01 05_40_02_55</td>\n",
       "      <td></td>\n",
       "      <td>20</td>\n",
       "      <td>ZNE</td>\n",
       "    </tr>\n",
       "    <tr>\n",
       "      <th>4</th>\n",
       "      <td>2007/01/01 05:52:18.43</td>\n",
       "      <td>-21.81511</td>\n",
       "      <td>-68.65773</td>\n",
       "      <td>106.69</td>\n",
       "      <td>ID</td>\n",
       "      <td>2.028</td>\n",
       "      <td>0.021</td>\n",
       "      <td>2.080</td>\n",
       "      <td>0.024</td>\n",
       "      <td>bucket0$4,:3,:1200</td>\n",
       "      <td>...</td>\n",
       "      <td>-21.04323</td>\n",
       "      <td>-69.4874</td>\n",
       "      <td>900.0</td>\n",
       "      <td>MA</td>\n",
       "      <td>ML</td>\n",
       "      <td>train</td>\n",
       "      <td>2007_01_01 05_52_18_43</td>\n",
       "      <td></td>\n",
       "      <td>20</td>\n",
       "      <td>ZNE</td>\n",
       "    </tr>\n",
       "    <tr>\n",
       "      <th>...</th>\n",
       "      <td>...</td>\n",
       "      <td>...</td>\n",
       "      <td>...</td>\n",
       "      <td>...</td>\n",
       "      <td>...</td>\n",
       "      <td>...</td>\n",
       "      <td>...</td>\n",
       "      <td>...</td>\n",
       "      <td>...</td>\n",
       "      <td>...</td>\n",
       "      <td>...</td>\n",
       "      <td>...</td>\n",
       "      <td>...</td>\n",
       "      <td>...</td>\n",
       "      <td>...</td>\n",
       "      <td>...</td>\n",
       "      <td>...</td>\n",
       "      <td>...</td>\n",
       "      <td>...</td>\n",
       "      <td>...</td>\n",
       "      <td>...</td>\n",
       "    </tr>\n",
       "    <tr>\n",
       "      <th>95</th>\n",
       "      <td>2007/01/07 05:19:53.63</td>\n",
       "      <td>-21.02248</td>\n",
       "      <td>-68.96970</td>\n",
       "      <td>109.05</td>\n",
       "      <td>ID</td>\n",
       "      <td>1.464</td>\n",
       "      <td>0.016</td>\n",
       "      <td>1.513</td>\n",
       "      <td>0.021</td>\n",
       "      <td>bucket2$25,:3,:1200</td>\n",
       "      <td>...</td>\n",
       "      <td>-21.04323</td>\n",
       "      <td>-69.4874</td>\n",
       "      <td>900.0</td>\n",
       "      <td>MA</td>\n",
       "      <td>ML</td>\n",
       "      <td>test</td>\n",
       "      <td>2007_01_07 05_19_53_63</td>\n",
       "      <td></td>\n",
       "      <td>20</td>\n",
       "      <td>ZNE</td>\n",
       "    </tr>\n",
       "    <tr>\n",
       "      <th>96</th>\n",
       "      <td>2007/01/07 05:25:44.43</td>\n",
       "      <td>-20.06507</td>\n",
       "      <td>-69.15500</td>\n",
       "      <td>93.64</td>\n",
       "      <td>ID</td>\n",
       "      <td>1.606</td>\n",
       "      <td>0.024</td>\n",
       "      <td>1.660</td>\n",
       "      <td>0.026</td>\n",
       "      <td>bucket2$26,:3,:1200</td>\n",
       "      <td>...</td>\n",
       "      <td>-21.04323</td>\n",
       "      <td>-69.4874</td>\n",
       "      <td>900.0</td>\n",
       "      <td>MA</td>\n",
       "      <td>ML</td>\n",
       "      <td>test</td>\n",
       "      <td>2007_01_07 05_25_44_43</td>\n",
       "      <td></td>\n",
       "      <td>20</td>\n",
       "      <td>ZNE</td>\n",
       "    </tr>\n",
       "    <tr>\n",
       "      <th>97</th>\n",
       "      <td>2007/01/07 06:37:03.33</td>\n",
       "      <td>-21.13000</td>\n",
       "      <td>-68.90223</td>\n",
       "      <td>110.59</td>\n",
       "      <td>ID</td>\n",
       "      <td>1.530</td>\n",
       "      <td>0.012</td>\n",
       "      <td>1.574</td>\n",
       "      <td>0.013</td>\n",
       "      <td>bucket2$27,:3,:1200</td>\n",
       "      <td>...</td>\n",
       "      <td>-21.04323</td>\n",
       "      <td>-69.4874</td>\n",
       "      <td>900.0</td>\n",
       "      <td>MA</td>\n",
       "      <td>ML</td>\n",
       "      <td>test</td>\n",
       "      <td>2007_01_07 06_37_03_33</td>\n",
       "      <td></td>\n",
       "      <td>20</td>\n",
       "      <td>ZNE</td>\n",
       "    </tr>\n",
       "    <tr>\n",
       "      <th>98</th>\n",
       "      <td>2007/01/07 06:39:20.08</td>\n",
       "      <td>-21.26966</td>\n",
       "      <td>-68.73751</td>\n",
       "      <td>120.06</td>\n",
       "      <td>ID</td>\n",
       "      <td>3.514</td>\n",
       "      <td>0.035</td>\n",
       "      <td>3.584</td>\n",
       "      <td>0.032</td>\n",
       "      <td>bucket2$28,:3,:1200</td>\n",
       "      <td>...</td>\n",
       "      <td>-21.04323</td>\n",
       "      <td>-69.4874</td>\n",
       "      <td>900.0</td>\n",
       "      <td>MA</td>\n",
       "      <td>ML</td>\n",
       "      <td>test</td>\n",
       "      <td>2007_01_07 06_39_20_08</td>\n",
       "      <td></td>\n",
       "      <td>20</td>\n",
       "      <td>ZNE</td>\n",
       "    </tr>\n",
       "    <tr>\n",
       "      <th>99</th>\n",
       "      <td>2007/01/07 08:11:16.15</td>\n",
       "      <td>-21.98446</td>\n",
       "      <td>-68.50909</td>\n",
       "      <td>126.73</td>\n",
       "      <td>ID</td>\n",
       "      <td>2.559</td>\n",
       "      <td>0.023</td>\n",
       "      <td>2.606</td>\n",
       "      <td>0.024</td>\n",
       "      <td>bucket2$29,:3,:1200</td>\n",
       "      <td>...</td>\n",
       "      <td>-21.04323</td>\n",
       "      <td>-69.4874</td>\n",
       "      <td>900.0</td>\n",
       "      <td>MA</td>\n",
       "      <td>ML</td>\n",
       "      <td>test</td>\n",
       "      <td>2007_01_07 08_11_16_15</td>\n",
       "      <td></td>\n",
       "      <td>20</td>\n",
       "      <td>ZNE</td>\n",
       "    </tr>\n",
       "  </tbody>\n",
       "</table>\n",
       "<p>100 rows × 23 columns</p>\n",
       "</div>"
      ],
      "text/plain": [
       "          trace_start_time  source_latitude_deg  source_longitude_deg  \\\n",
       "0   2007/01/01 01:42:45.08            -20.43802             -69.27681   \n",
       "1   2007/01/01 02:41:13.75            -21.64059             -68.41443   \n",
       "2   2007/01/01 03:50:29.27            -21.84637             -68.53904   \n",
       "3   2007/01/01 05:40:02.55            -21.23950             -70.05063   \n",
       "4   2007/01/01 05:52:18.43            -21.81511             -68.65773   \n",
       "..                     ...                  ...                   ...   \n",
       "95  2007/01/07 05:19:53.63            -21.02248             -68.96970   \n",
       "96  2007/01/07 05:25:44.43            -20.06507             -69.15500   \n",
       "97  2007/01/07 06:37:03.33            -21.13000             -68.90223   \n",
       "98  2007/01/07 06:39:20.08            -21.26966             -68.73751   \n",
       "99  2007/01/07 08:11:16.15            -21.98446             -68.50909   \n",
       "\n",
       "    source_depth_km source_event_category  source_magnitude  \\\n",
       "0             83.18                    ID             1.353   \n",
       "1            118.38                    ID             1.981   \n",
       "2            111.82                    ID             2.719   \n",
       "3             34.95                    UP             2.169   \n",
       "4            106.69                    ID             2.028   \n",
       "..              ...                   ...               ...   \n",
       "95           109.05                    ID             1.464   \n",
       "96            93.64                    ID             1.606   \n",
       "97           110.59                    ID             1.530   \n",
       "98           120.06                    ID             3.514   \n",
       "99           126.73                    ID             2.559   \n",
       "\n",
       "    source_magnitude_uncertainty  source_magnitude2  \\\n",
       "0                          0.014              1.426   \n",
       "1                          0.020              2.027   \n",
       "2                          0.024              2.811   \n",
       "3                          0.020              2.269   \n",
       "4                          0.021              2.080   \n",
       "..                           ...                ...   \n",
       "95                         0.016              1.513   \n",
       "96                         0.024              1.660   \n",
       "97                         0.012              1.574   \n",
       "98                         0.035              3.584   \n",
       "99                         0.023              2.606   \n",
       "\n",
       "    source_magnitude_uncertainty2           trace_name  ...  \\\n",
       "0                           0.011   bucket0$0,:3,:1200  ...   \n",
       "1                           0.023   bucket0$1,:3,:1200  ...   \n",
       "2                           0.026   bucket0$2,:3,:1200  ...   \n",
       "3                           0.020   bucket0$3,:3,:1200  ...   \n",
       "4                           0.024   bucket0$4,:3,:1200  ...   \n",
       "..                            ...                  ...  ...   \n",
       "95                          0.021  bucket2$25,:3,:1200  ...   \n",
       "96                          0.026  bucket2$26,:3,:1200  ...   \n",
       "97                          0.013  bucket2$27,:3,:1200  ...   \n",
       "98                          0.032  bucket2$28,:3,:1200  ...   \n",
       "99                          0.024  bucket2$29,:3,:1200  ...   \n",
       "\n",
       "   station_latitude_deg station_longitude_deg station_elevation_m  \\\n",
       "0             -21.04323              -69.4874               900.0   \n",
       "1             -21.04323              -69.4874               900.0   \n",
       "2             -21.04323              -69.4874               900.0   \n",
       "3             -21.04323              -69.4874               900.0   \n",
       "4             -21.04323              -69.4874               900.0   \n",
       "..                  ...                   ...                 ...   \n",
       "95            -21.04323              -69.4874               900.0   \n",
       "96            -21.04323              -69.4874               900.0   \n",
       "97            -21.04323              -69.4874               900.0   \n",
       "98            -21.04323              -69.4874               900.0   \n",
       "99            -21.04323              -69.4874               900.0   \n",
       "\n",
       "    source_magnitude_type  source_magnitude_type2  split  \\\n",
       "0                      MA                      ML  train   \n",
       "1                      MA                      ML  train   \n",
       "2                      MA                      ML  train   \n",
       "3                      MA                      ML  train   \n",
       "4                      MA                      ML  train   \n",
       "..                    ...                     ...    ...   \n",
       "95                     MA                      ML   test   \n",
       "96                     MA                      ML   test   \n",
       "97                     MA                      ML   test   \n",
       "98                     MA                      ML   test   \n",
       "99                     MA                      ML   test   \n",
       "\n",
       "       trace_name_original trace_chunk trace_sampling_rate_hz  \\\n",
       "0   2007_01_01 01_42_45_08                                 20   \n",
       "1   2007_01_01 02_41_13_75                                 20   \n",
       "2   2007_01_01 03_50_29_27                                 20   \n",
       "3   2007_01_01 05_40_02_55                                 20   \n",
       "4   2007_01_01 05_52_18_43                                 20   \n",
       "..                     ...         ...                    ...   \n",
       "95  2007_01_07 05_19_53_63                                 20   \n",
       "96  2007_01_07 05_25_44_43                                 20   \n",
       "97  2007_01_07 06_37_03_33                                 20   \n",
       "98  2007_01_07 06_39_20_08                                 20   \n",
       "99  2007_01_07 08_11_16_15                                 20   \n",
       "\n",
       "   trace_component_order  \n",
       "0                    ZNE  \n",
       "1                    ZNE  \n",
       "2                    ZNE  \n",
       "3                    ZNE  \n",
       "4                    ZNE  \n",
       "..                   ...  \n",
       "95                   ZNE  \n",
       "96                   ZNE  \n",
       "97                   ZNE  \n",
       "98                   ZNE  \n",
       "99                   ZNE  \n",
       "\n",
       "[100 rows x 23 columns]"
      ]
     },
     "execution_count": 4,
     "metadata": {},
     "output_type": "execute_result"
    }
   ],
   "source": [
    "data.metadata"
   ]
  },
  {
   "cell_type": "code",
   "execution_count": 5,
   "id": "2ea0b80e-3a0f-41b2-a963-b1ed35c0e6d3",
   "metadata": {},
   "outputs": [
    {
     "name": "stdout",
     "output_type": "stream",
     "text": [
      "trace_start_time                 2007/01/01 01:42:45.08\n",
      "source_latitude_deg                           -20.43802\n",
      "source_longitude_deg                          -69.27681\n",
      "source_depth_km                                   83.18\n",
      "source_event_category                                ID\n",
      "source_magnitude                                  1.353\n",
      "source_magnitude_uncertainty                      0.014\n",
      "source_magnitude2                                 1.426\n",
      "source_magnitude_uncertainty2                     0.011\n",
      "trace_name                           bucket0$0,:3,:1200\n",
      "station_network_code                                 CX\n",
      "station_code                                       PB01\n",
      "station_type                                         BH\n",
      "station_latitude_deg                          -21.04323\n",
      "station_longitude_deg                          -69.4874\n",
      "station_elevation_m                               900.0\n",
      "source_magnitude_type                                MA\n",
      "source_magnitude_type2                               ML\n",
      "split                                             train\n",
      "trace_name_original              2007_01_01 01_42_45_08\n",
      "trace_chunk                                            \n",
      "trace_sampling_rate_hz                               20\n",
      "trace_component_order                               ZNE\n",
      "Name: 0, dtype: object\n"
     ]
    }
   ],
   "source": [
    "print(data.metadata.iloc[0])"
   ]
  },
  {
   "cell_type": "markdown",
   "id": "c3168d10-f632-40a4-ab39-678225b3fea0",
   "metadata": {},
   "source": [
    "### So that's the metadata, how are the waveforms stored? h5 files!"
   ]
  },
  {
   "cell_type": "code",
   "execution_count": 6,
   "id": "e32df57f-993a-4565-bd17-dc801be3df1e",
   "metadata": {},
   "outputs": [
    {
     "data": {
      "text/plain": [
       "['data', 'data_format']"
      ]
     },
     "execution_count": 6,
     "metadata": {},
     "output_type": "execute_result"
    }
   ],
   "source": [
    "import h5py\n",
    "\n",
    "filename = \"/home/jovyan/.seisbench/datasets/dummydataset/waveforms.hdf5\"\n",
    "\n",
    "\n",
    "f = h5py.File(filename, 'r')\n",
    "\n",
    "list(f.keys())"
   ]
  },
  {
   "cell_type": "code",
   "execution_count": 7,
   "id": "ba2e521e-3dee-44f7-9c95-defb607b5729",
   "metadata": {},
   "outputs": [
    {
     "name": "stdout",
     "output_type": "stream",
     "text": [
      "<HDF5 dataset \"bucket0\": shape (60, 3, 1200), type \"<f8\">\n",
      "<HDF5 dataset \"bucket1\": shape (10, 3, 1200), type \"<f8\">\n",
      "<HDF5 dataset \"bucket2\": shape (30, 3, 1200), type \"<f8\">\n"
     ]
    }
   ],
   "source": [
    "# Looks like they divided up the waveforms based on length?\n",
    "\n",
    "dset = f['data']\n",
    "for name in dset:\n",
    "    print(dset[name])"
   ]
  },
  {
   "cell_type": "markdown",
   "id": "4a9b617e-8b95-4a6e-8bf3-6b30ce2e3bc9",
   "metadata": {},
   "source": [
    "### Can grab a stream by using the \"trace name\" from the metadata:"
   ]
  },
  {
   "cell_type": "code",
   "execution_count": 8,
   "id": "6f19e735-c00b-4b90-8f14-462260571392",
   "metadata": {},
   "outputs": [
    {
     "name": "stdout",
     "output_type": "stream",
     "text": [
      "[[  34.   47.   51. ...,  667.  695.  662.]\n",
      " [-100.  -99.  -98. ..., -229. -208. -201.]\n",
      " [ 645.  636.  625. ...,  420.  416.  374.]]\n"
     ]
    }
   ],
   "source": [
    "tryit = dset['bucket0'][0,:3,:1200]\n",
    "print(tryit)"
   ]
  },
  {
   "cell_type": "code",
   "execution_count": 9,
   "id": "d2564716-ba17-406d-aa5f-e219ef3ac3e0",
   "metadata": {},
   "outputs": [
    {
     "name": "stdout",
     "output_type": "stream",
     "text": [
      "<HDF5 dataset \"component_order\": shape (), type \"|O\">\n",
      "<HDF5 dataset \"dimension_order\": shape (), type \"|O\">\n",
      "<HDF5 dataset \"instrument_response\": shape (), type \"|O\">\n",
      "<HDF5 dataset \"measurement\": shape (), type \"|O\">\n",
      "<HDF5 dataset \"sampling_rate\": shape (), type \"<i8\">\n",
      "<HDF5 dataset \"unit\": shape (), type \"|O\">\n"
     ]
    }
   ],
   "source": [
    "dset = f['data_format']\n",
    "for name in dset:\n",
    "    print(dset[name])"
   ]
  },
  {
   "cell_type": "markdown",
   "id": "4212aada-ea2e-4047-81ba-c3d82d3d6687",
   "metadata": {},
   "source": [
    "### There are some command line tools that can help look at what's in an h5 file on first glance.\n",
    "\n",
    "From the command line, h5dump -H /home/jovyan/.seisbench/datasets/iquique/waveforms.hdf5\n",
    "Will list the header of the file and how contents of the file are split into groups, and then datasets within groups"
   ]
  },
  {
   "cell_type": "markdown",
   "id": "32c5ecb3-b757-45fd-b165-e16deb60ea5b",
   "metadata": {},
   "source": [
    "### Also, xarray is a really helpful module to sift through h5 files and see what's in there!"
   ]
  },
  {
   "cell_type": "code",
   "execution_count": 20,
   "id": "37c78037-1031-4b84-869a-3fdd0db3a348",
   "metadata": {},
   "outputs": [],
   "source": [
    "import xarray\n",
    "import h5netcdf"
   ]
  },
  {
   "cell_type": "markdown",
   "id": "0da0678d-4c43-43c8-a229-a62b1cb4a16f",
   "metadata": {},
   "source": [
    "### If the h5 file has multiple groups, can't just open the whole thing- have to open one group at a time. In the seisbench case, there is the data_format and data group"
   ]
  },
  {
   "cell_type": "code",
   "execution_count": 26,
   "id": "2b8c9cd8-0e97-4c0d-8ca7-502f4fe02c20",
   "metadata": {},
   "outputs": [
    {
     "name": "stdout",
     "output_type": "stream",
     "text": [
      "<xarray.Dataset>\n",
      "Dimensions:              ()\n",
      "Data variables:\n",
      "    component_order      object ...\n",
      "    dimension_order      object ...\n",
      "    instrument_response  object ...\n",
      "    measurement          object ...\n",
      "    sampling_rate        int64 ...\n",
      "    unit                 object ...\n",
      "<xarray.DataArray 'measurement' ()>\n",
      "array('velocity',\n",
      "      dtype='<U8')\n"
     ]
    }
   ],
   "source": [
    "ds = xarray.open_dataset(filename,group='data_format')\n",
    "print(ds)\n",
    "print(ds.measurement)"
   ]
  },
  {
   "cell_type": "code",
   "execution_count": 21,
   "id": "26ce55a6-be8b-4400-b105-da0bb3de7f88",
   "metadata": {},
   "outputs": [
    {
     "name": "stdout",
     "output_type": "stream",
     "text": [
      "<xarray.Dataset>\n",
      "Dimensions:  (phony_dim_0: 60, phony_dim_1: 3, phony_dim_2: 1200,\n",
      "              phony_dim_3: 10, phony_dim_4: 30)\n",
      "Dimensions without coordinates: phony_dim_0, phony_dim_1, phony_dim_2,\n",
      "                                phony_dim_3, phony_dim_4\n",
      "Data variables:\n",
      "    bucket0  (phony_dim_0, phony_dim_1, phony_dim_2) float64 ...\n",
      "    bucket1  (phony_dim_3, phony_dim_1, phony_dim_2) float64 ...\n",
      "    bucket2  (phony_dim_4, phony_dim_1, phony_dim_2) float64 ...\n"
     ]
    }
   ],
   "source": [
    "# We can see that because seisbench hasn't stored the dimension names, we have to give them phony names\n",
    "ds = xarray.open_dataset(filename,group='data',phony_dims='access')\n",
    "print(ds)"
   ]
  },
  {
   "cell_type": "markdown",
   "id": "2a5691e7-feab-436e-adff-8201afc30a0e",
   "metadata": {},
   "source": [
    "#### We see that the stored waveform is very long. For the Iquique dataset, it looks like they started the waveform 2000 samples before the P pick, and ended it 12000 samples after the S arrival. \n",
    "#### For a 100 Hz sampling rate, this is 2 minutes before P and 12 minutes after S. \n",
    "#### Note that not all windows have an S pick- for these traces, it looks like they cut the trace to 12 minutes after the P. "
   ]
  },
  {
   "cell_type": "code",
   "execution_count": null,
   "id": "504a0c15-8722-4c81-a428-8a7be837266c",
   "metadata": {},
   "outputs": [],
   "source": []
  }
 ],
 "metadata": {
  "kernelspec": {
   "display_name": "Python [conda env:alaska-ml]",
   "language": "python",
   "name": "conda-env-alaska-ml-py"
  },
  "language_info": {
   "codemirror_mode": {
    "name": "ipython",
    "version": 3
   },
   "file_extension": ".py",
   "mimetype": "text/x-python",
   "name": "python",
   "nbconvert_exporter": "python",
   "pygments_lexer": "ipython3",
   "version": "3.9.10"
  }
 },
 "nbformat": 4,
 "nbformat_minor": 5
}
