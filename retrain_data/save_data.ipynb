{
 "cells": [
  {
   "cell_type": "code",
   "execution_count": 2,
   "id": "93174a5d-79aa-46eb-ab57-b6d61e634f5e",
   "metadata": {},
   "outputs": [],
   "source": [
    "import seisbench\n",
    "import seisbench.data as sbd\n",
    "import seisbench.generate as sbg\n",
    "import seisbench.models as sbm\n",
    "from seisbench.util import worker_seeding\n",
    "\n",
    "import numpy as np\n",
    "import matplotlib.pyplot as plt\n",
    "import torch\n",
    "from torch.utils.data import DataLoader\n",
    "from obspy.clients.fdsn import Client\n",
    "from obspy import UTCDateTime\n",
    "import pandas as pd\n",
    "import datetime\n",
    "import h5py"
   ]
  },
  {
   "cell_type": "code",
   "execution_count": 3,
   "id": "6c2b5633-1b29-42c2-a303-41bcb5b1cf7c",
   "metadata": {},
   "outputs": [],
   "source": [
    "\n",
    "dfS = pd.read_parquet(\n",
    "    \"https://github.com/zoekrauss/alaska_catalog/raw/main/data_acquisition/alaska_stations.parquet\"\n",
    ")\n",
    "dfC = pd.read_parquet(\n",
    "    \"https://github.com/zoekrauss/alaska_catalog/raw/main/data_acquisition/alaska_fullcatalog.parquet\")\n",
    "dfC['pick_time']=pd.to_datetime(dfC['pick_time'],format='%Y-%m-%dT%H:%M:%S.%fZ',errors='coerce')"
   ]
  },
  {
   "cell_type": "code",
   "execution_count": 6,
   "id": "596b0713-c0d8-4a13-82c3-6bdd08e18a8e",
   "metadata": {},
   "outputs": [],
   "source": [
    "# Break it down to just a day!\n",
    "t1 = datetime.datetime(2019,1,1)\n",
    "t2 = datetime.datetime(2019,1,1,10)\n",
    "dfC = dfC[(dfC['pick_time'] > t1) & (dfC['pick_time'] < t2)]\n",
    "\n",
    "# Let's just grab P-waves for now- can grab S later\n",
    "dfC = dfC[(dfC['phase'] == 'P')]\n",
    "\n",
    "# Also only use picks on stations that are in our station list!\n",
    "# ground_truth = ground_truth[([t in df['id'].to_list() for t in ground_truth['sta_code']])]"
   ]
  },
  {
   "cell_type": "code",
   "execution_count": 7,
   "id": "7abc6c6b-533b-436e-81d3-8928d9f5ea80",
   "metadata": {},
   "outputs": [
    {
     "data": {
      "text/html": [
       "<div>\n",
       "<style scoped>\n",
       "    .dataframe tbody tr th:only-of-type {\n",
       "        vertical-align: middle;\n",
       "    }\n",
       "\n",
       "    .dataframe tbody tr th {\n",
       "        vertical-align: top;\n",
       "    }\n",
       "\n",
       "    .dataframe thead th {\n",
       "        text-align: right;\n",
       "    }\n",
       "</style>\n",
       "<table border=\"1\" class=\"dataframe\">\n",
       "  <thead>\n",
       "    <tr style=\"text-align: right;\">\n",
       "      <th></th>\n",
       "      <th>phase</th>\n",
       "      <th>azimuth</th>\n",
       "      <th>distance</th>\n",
       "      <th>time_residual</th>\n",
       "      <th>time_weight</th>\n",
       "      <th>pick_time</th>\n",
       "      <th>network</th>\n",
       "      <th>station</th>\n",
       "      <th>channel</th>\n",
       "      <th>pick_id</th>\n",
       "      <th>...</th>\n",
       "      <th>ev_longitude</th>\n",
       "      <th>ev_latitude</th>\n",
       "      <th>ev_depth</th>\n",
       "      <th>ev_magnitude</th>\n",
       "      <th>mag_type</th>\n",
       "      <th>ev_phasecount</th>\n",
       "      <th>sta_lon</th>\n",
       "      <th>sta_lat</th>\n",
       "      <th>sta_elev</th>\n",
       "      <th>sta_unit</th>\n",
       "    </tr>\n",
       "  </thead>\n",
       "  <tbody>\n",
       "    <tr>\n",
       "      <th>0</th>\n",
       "      <td>P</td>\n",
       "      <td>6.76</td>\n",
       "      <td>0.411</td>\n",
       "      <td>-0.014</td>\n",
       "      <td>0.265</td>\n",
       "      <td>2019-01-01 05:06:05.601</td>\n",
       "      <td>XO</td>\n",
       "      <td>LT20</td>\n",
       "      <td>HHZ</td>\n",
       "      <td>quakeml:earthquake.alaska.edu/pick/95</td>\n",
       "      <td>...</td>\n",
       "      <td>-161.4584</td>\n",
       "      <td>54.3925</td>\n",
       "      <td>25600.0</td>\n",
       "      <td>2.4</td>\n",
       "      <td>ml</td>\n",
       "      <td>35</td>\n",
       "      <td>-161.374600</td>\n",
       "      <td>54.800200</td>\n",
       "      <td>-150.0</td>\n",
       "      <td>m/s</td>\n",
       "    </tr>\n",
       "    <tr>\n",
       "      <th>1</th>\n",
       "      <td>P</td>\n",
       "      <td>76.00</td>\n",
       "      <td>0.751</td>\n",
       "      <td>0.343</td>\n",
       "      <td>0.265</td>\n",
       "      <td>2019-01-01 05:06:10.941</td>\n",
       "      <td>XO</td>\n",
       "      <td>LT17</td>\n",
       "      <td>HHZ</td>\n",
       "      <td>quakeml:earthquake.alaska.edu/pick/97</td>\n",
       "      <td>...</td>\n",
       "      <td>-161.4584</td>\n",
       "      <td>54.3925</td>\n",
       "      <td>25600.0</td>\n",
       "      <td>2.4</td>\n",
       "      <td>ml</td>\n",
       "      <td>35</td>\n",
       "      <td>-160.201600</td>\n",
       "      <td>54.567700</td>\n",
       "      <td>-114.0</td>\n",
       "      <td>m/s</td>\n",
       "    </tr>\n",
       "    <tr>\n",
       "      <th>2</th>\n",
       "      <td>P</td>\n",
       "      <td>106.40</td>\n",
       "      <td>0.733</td>\n",
       "      <td>1.011</td>\n",
       "      <td>0.265</td>\n",
       "      <td>2019-01-01 05:06:11.047</td>\n",
       "      <td>XO</td>\n",
       "      <td>WS75</td>\n",
       "      <td>HHZ</td>\n",
       "      <td>quakeml:earthquake.alaska.edu/pick/98</td>\n",
       "      <td>...</td>\n",
       "      <td>-161.4584</td>\n",
       "      <td>54.3925</td>\n",
       "      <td>25600.0</td>\n",
       "      <td>2.4</td>\n",
       "      <td>ml</td>\n",
       "      <td>35</td>\n",
       "      <td>-160.256908</td>\n",
       "      <td>54.179630</td>\n",
       "      <td>-1108.9</td>\n",
       "      <td>m/s</td>\n",
       "    </tr>\n",
       "    <tr>\n",
       "      <th>3</th>\n",
       "      <td>P</td>\n",
       "      <td>132.56</td>\n",
       "      <td>0.895</td>\n",
       "      <td>-1.155</td>\n",
       "      <td>0.265</td>\n",
       "      <td>2019-01-01 05:06:11.579</td>\n",
       "      <td>XO</td>\n",
       "      <td>WD69</td>\n",
       "      <td>HHZ</td>\n",
       "      <td>quakeml:earthquake.alaska.edu/pick/99</td>\n",
       "      <td>...</td>\n",
       "      <td>-161.4584</td>\n",
       "      <td>54.3925</td>\n",
       "      <td>25600.0</td>\n",
       "      <td>2.4</td>\n",
       "      <td>ml</td>\n",
       "      <td>35</td>\n",
       "      <td>-160.342890</td>\n",
       "      <td>53.782065</td>\n",
       "      <td>-3895.9</td>\n",
       "      <td>m/s</td>\n",
       "    </tr>\n",
       "    <tr>\n",
       "      <th>5</th>\n",
       "      <td>P</td>\n",
       "      <td>106.85</td>\n",
       "      <td>0.965</td>\n",
       "      <td>0.411</td>\n",
       "      <td>0.265</td>\n",
       "      <td>2019-01-01 05:06:13.566</td>\n",
       "      <td>XO</td>\n",
       "      <td>LD45</td>\n",
       "      <td>HHZ</td>\n",
       "      <td>quakeml:earthquake.alaska.edu/pick/101</td>\n",
       "      <td>...</td>\n",
       "      <td>-161.4584</td>\n",
       "      <td>54.3925</td>\n",
       "      <td>25600.0</td>\n",
       "      <td>2.4</td>\n",
       "      <td>ml</td>\n",
       "      <td>35</td>\n",
       "      <td>-159.882900</td>\n",
       "      <td>54.102500</td>\n",
       "      <td>-2019.0</td>\n",
       "      <td>m/s</td>\n",
       "    </tr>\n",
       "  </tbody>\n",
       "</table>\n",
       "<p>5 rows × 23 columns</p>\n",
       "</div>"
      ],
      "text/plain": [
       "  phase  azimuth  distance  time_residual  time_weight  \\\n",
       "0     P     6.76     0.411         -0.014        0.265   \n",
       "1     P    76.00     0.751          0.343        0.265   \n",
       "2     P   106.40     0.733          1.011        0.265   \n",
       "3     P   132.56     0.895         -1.155        0.265   \n",
       "5     P   106.85     0.965          0.411        0.265   \n",
       "\n",
       "                pick_time network station channel  \\\n",
       "0 2019-01-01 05:06:05.601      XO    LT20     HHZ   \n",
       "1 2019-01-01 05:06:10.941      XO    LT17     HHZ   \n",
       "2 2019-01-01 05:06:11.047      XO    WS75     HHZ   \n",
       "3 2019-01-01 05:06:11.579      XO    WD69     HHZ   \n",
       "5 2019-01-01 05:06:13.566      XO    LD45     HHZ   \n",
       "\n",
       "                                  pick_id  ... ev_longitude ev_latitude  \\\n",
       "0   quakeml:earthquake.alaska.edu/pick/95  ...    -161.4584     54.3925   \n",
       "1   quakeml:earthquake.alaska.edu/pick/97  ...    -161.4584     54.3925   \n",
       "2   quakeml:earthquake.alaska.edu/pick/98  ...    -161.4584     54.3925   \n",
       "3   quakeml:earthquake.alaska.edu/pick/99  ...    -161.4584     54.3925   \n",
       "5  quakeml:earthquake.alaska.edu/pick/101  ...    -161.4584     54.3925   \n",
       "\n",
       "  ev_depth  ev_magnitude  mag_type  ev_phasecount     sta_lon    sta_lat  \\\n",
       "0  25600.0           2.4        ml             35 -161.374600  54.800200   \n",
       "1  25600.0           2.4        ml             35 -160.201600  54.567700   \n",
       "2  25600.0           2.4        ml             35 -160.256908  54.179630   \n",
       "3  25600.0           2.4        ml             35 -160.342890  53.782065   \n",
       "5  25600.0           2.4        ml             35 -159.882900  54.102500   \n",
       "\n",
       "   sta_elev  sta_unit  \n",
       "0    -150.0       m/s  \n",
       "1    -114.0       m/s  \n",
       "2   -1108.9       m/s  \n",
       "3   -3895.9       m/s  \n",
       "5   -2019.0       m/s  \n",
       "\n",
       "[5 rows x 23 columns]"
      ]
     },
     "execution_count": 7,
     "metadata": {},
     "output_type": "execute_result"
    }
   ],
   "source": [
    "dfC.head()"
   ]
  },
  {
   "cell_type": "markdown",
   "id": "783d98ff-310f-43ce-ba44-aade7fea7dc7",
   "metadata": {},
   "source": [
    "### Write formats to data_format group"
   ]
  },
  {
   "cell_type": "code",
   "execution_count": 38,
   "id": "be7ca967-7da6-49ea-ba78-09ce8876c8b5",
   "metadata": {},
   "outputs": [],
   "source": [
    "# Pull in example data_format group from the seisbench dummy dataset:\n",
    "import h5py\n",
    "filename = \"/home/jovyan/.seisbench/datasets/dummydataset/waveforms.hdf5\"\n",
    "f = h5py.File(filename, 'r')\n",
    "g_example = f['data_format']"
   ]
  },
  {
   "cell_type": "code",
   "execution_count": 42,
   "id": "3713622a-a632-460a-99d0-c319e9361e0d",
   "metadata": {},
   "outputs": [
    {
     "name": "stdout",
     "output_type": "stream",
     "text": [
      "<Attributes of HDF5 object at 140231852476352>\n"
     ]
    }
   ],
   "source": [
    "print(g_example.attrs)"
   ]
  },
  {
   "cell_type": "code",
   "execution_count": null,
   "id": "9a084127-a33f-48d9-844d-57e79b4b2390",
   "metadata": {},
   "outputs": [],
   "source": [
    "create_dataset_like(name, other, **kwds)"
   ]
  },
  {
   "cell_type": "markdown",
   "id": "f77678b8-addf-461f-aeb5-0e13efd24244",
   "metadata": {},
   "source": [
    "### Write waveforms to data group"
   ]
  },
  {
   "cell_type": "code",
   "execution_count": 34,
   "id": "4fa64cb4-ccd9-4285-ba4a-f5604a77ccf6",
   "metadata": {},
   "outputs": [],
   "source": [
    "client = Client(\"iris\")\n",
    "\n",
    "with h5py.File('test_data5.h5', 'w') as hf:\n",
    "    stacked = []\n",
    "    for i in range(5):\n",
    "        pick = dfC.iloc[i]\n",
    "\n",
    "        t1 = UTCDateTime(pick['pick_time'] - pd.Timedelta(minutes=2))\n",
    "        t2 = UTCDateTime(pick['pick_time'] + pd.Timedelta(minutes=12))\n",
    "\n",
    "        wf = client.get_waveforms(pick['network'],pick['station'],'  ',pick['channel'][0:2]+'*',t1,t2)\n",
    "\n",
    "        wf_np = np.stack([t.data for t in wf])\n",
    "        \n",
    "        stacked.append(wf_np)\n",
    "    \n",
    "    trace_len = np.shape(stacked)[2]\n",
    "    g = hf.create_group('data')    \n",
    "    g.create_dataset('bucket0',shape=[5,3,trace_len],dtype='f8',data=stacked)"
   ]
  },
  {
   "cell_type": "code",
   "execution_count": 36,
   "id": "902d0027-9261-4012-a215-d6f701d45bad",
   "metadata": {},
   "outputs": [
    {
     "name": "stdout",
     "output_type": "stream",
     "text": [
      "['data']\n",
      "<HDF5 dataset \"bucket0\": shape (5, 3, 84000), type \"<f8\">\n"
     ]
    }
   ],
   "source": [
    "# Round trip\n",
    "\n",
    "filename = \"/home/jovyan/ak-retraining/retrain_data/test_data5.h5\"\n",
    "\n",
    "f = h5py.File(filename, 'r')\n",
    "\n",
    "print(list(f.keys()))\n",
    "\n",
    "dset = f['data']\n",
    "for name in dset:\n",
    "    print(dset[name])"
   ]
  },
  {
   "cell_type": "code",
   "execution_count": 37,
   "id": "f6456109-e43e-4932-b1e5-c6443c3544c5",
   "metadata": {},
   "outputs": [
    {
     "name": "stdout",
     "output_type": "stream",
     "text": [
      "[[ 22505.  22349.  22178. ...,  -7004.  -7384.  -7740.]\n",
      " [ 12314.  11493.  10668. ...,  14477.  14232.  13965.]\n",
      " [-22583. -22252. -21931. ..., -28755. -28713. -28643.]]\n"
     ]
    }
   ],
   "source": [
    "tr = f['data']['bucket0'][0,:3,:trace_len]\n",
    "print(tr)"
   ]
  },
  {
   "cell_type": "code",
   "execution_count": null,
   "id": "e76bdd35-2d03-4cbc-8dcd-fa23bee8181f",
   "metadata": {},
   "outputs": [],
   "source": []
  }
 ],
 "metadata": {
  "kernelspec": {
   "display_name": "Python [conda env:alaska-ml]",
   "language": "python",
   "name": "conda-env-alaska-ml-py"
  },
  "language_info": {
   "codemirror_mode": {
    "name": "ipython",
    "version": 3
   },
   "file_extension": ".py",
   "mimetype": "text/x-python",
   "name": "python",
   "nbconvert_exporter": "python",
   "pygments_lexer": "ipython3",
   "version": "3.9.10"
  }
 },
 "nbformat": 4,
 "nbformat_minor": 5
}
